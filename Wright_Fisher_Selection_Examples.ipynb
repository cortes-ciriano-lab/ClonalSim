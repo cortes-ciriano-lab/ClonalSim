{
 "cells": [
  {
   "cell_type": "code",
   "execution_count": 104,
   "metadata": {
    "slideshow": {
     "slide_type": "slide"
    }
   },
   "outputs": [
    {
     "ename": "NameError",
     "evalue": "name 'N' is not defined",
     "output_type": "error",
     "traceback": [
      "\u001b[0;31m---------------------------------------------------------------------------\u001b[0m",
      "\u001b[0;31mNameError\u001b[0m                                 Traceback (most recent call last)",
      "\u001b[0;32m<ipython-input-104-e427b18135e6>\u001b[0m in \u001b[0;36m<module>\u001b[0;34m\u001b[0m\n\u001b[1;32m    210\u001b[0m \u001b[0;32mfor\u001b[0m \u001b[0mi\u001b[0m \u001b[0;32min\u001b[0m \u001b[0mrange\u001b[0m\u001b[0;34m(\u001b[0m\u001b[0;36m1000\u001b[0m\u001b[0;34m)\u001b[0m\u001b[0;34m:\u001b[0m\u001b[0;34m\u001b[0m\u001b[0;34m\u001b[0m\u001b[0m\n\u001b[1;32m    211\u001b[0m     \u001b[0;31m# call the function\u001b[0m\u001b[0;34m\u001b[0m\u001b[0;34m\u001b[0m\u001b[0;34m\u001b[0m\u001b[0m\n\u001b[0;32m--> 212\u001b[0;31m     \u001b[0mresult\u001b[0m \u001b[0;34m=\u001b[0m \u001b[0msimulate_population_and_tree\u001b[0m\u001b[0;34m(\u001b[0m\u001b[0mN\u001b[0m\u001b[0;34m,\u001b[0m \u001b[0mgenerations\u001b[0m\u001b[0;34m,\u001b[0m \u001b[0mmut_samples\u001b[0m\u001b[0;34m,\u001b[0m \u001b[0ms\u001b[0m\u001b[0;34m,\u001b[0m \u001b[0mmu\u001b[0m\u001b[0;34m)\u001b[0m\u001b[0;34m\u001b[0m\u001b[0;34m\u001b[0m\u001b[0m\n\u001b[0m\u001b[1;32m    213\u001b[0m     \u001b[0;31m# append the result to the list\u001b[0m\u001b[0;34m\u001b[0m\u001b[0;34m\u001b[0m\u001b[0;34m\u001b[0m\u001b[0m\n\u001b[1;32m    214\u001b[0m     \u001b[0mresults\u001b[0m\u001b[0;34m.\u001b[0m\u001b[0mappend\u001b[0m\u001b[0;34m(\u001b[0m\u001b[0mresult\u001b[0m\u001b[0;34m)\u001b[0m\u001b[0;34m\u001b[0m\u001b[0;34m\u001b[0m\u001b[0m\n",
      "\u001b[0;31mNameError\u001b[0m: name 'N' is not defined"
     ]
    }
   ],
   "source": [
    "import matplotlib.pyplot as plt\n",
    "import numpy as np\n",
    "import random\n",
    "#import abcpy\n",
    "import treeswift\n",
    "from treeswift import Tree, Node\n",
    "\n",
    "\n",
    "class Population:\n",
    "    def __init__(self, N, generations, s):\n",
    "        self.N = N\n",
    "        self.s = s\n",
    "        self.generations = generations\n",
    "        self.generation_data = []\n",
    "\n",
    "    def __str__(self):\n",
    "        return f\"Population size: {self.N}, Generations: {self.generations}, Selection: {self.s}\"\n",
    "\n",
    "    def simulate_population(self):\n",
    "        \"\"\"\n",
    "        Simulate the population using the Wright-Fisher model with selection.\n",
    "        \"\"\"\n",
    "\n",
    "        # Initialize the first population\n",
    "        population = np.zeros(self.N, dtype=int)\n",
    "        population[random.randint(0, self.N - 1)] = 1\n",
    "        self.generation_data.append(population)\n",
    "        binom_prob_list  = []\n",
    "        mut_n_list = []\n",
    "        \n",
    "        for gen in range(self.generations):\n",
    "            mut_n = len(np.where(self.generation_data[gen] == 1)[0])\n",
    "            mut_n_list.append(mut_n)\n",
    "            \n",
    "            cancer_p = (1 + self.s) * mut_n / (self.N + (mut_n * self.s))\n",
    "            binom_prob_list.append(cancer_p)\n",
    "                \n",
    "            offspring = np.random.binomial(n=1, p=cancer_p, size=self.N)\n",
    "            \n",
    "            num_mutants = [np.count_nonzero(offspring == 1)]\n",
    "            \n",
    "            if num_mutants == 0:\n",
    "                print(\"Stochastic Extinction\")\n",
    "                self.generation_data.append(offspring)\n",
    "                num_mutants = [np.count_nonzero(generation == 1) for generation in self.generation_data]\n",
    "                # Plot the number of mutants over time\n",
    "                fig, ax = plt.subplots()\n",
    "                ax.plot(range(len(num_mutants)), np.log(num_mutants))\n",
    "                ax.set_xlabel(\"Time in Generations\")\n",
    "                ax.set_ylabel(\"Number of mutants ln(N)\")\n",
    "                ax.set_title(f\"Mutant allele frequency over time (s={self.s})\")\n",
    "                plt.show()\n",
    "                return(self.generation_data, binom_prob_list, mut_n_list, fig) \n",
    "            \n",
    "            self.generation_data.append(offspring)\n",
    "            \n",
    "        # Plot the number of mutants over time\n",
    "        # Count the number of individuals with a value of 1 in each generation\n",
    "        num_mutants = [np.count_nonzero(generation == 1) for generation in self.generation_data]\n",
    "        \n",
    "        # Plot the number of mutants over time\n",
    "        fig, ax = plt.subplots()\n",
    "        ax.plot(range(len(num_mutants)), np.log(num_mutants))\n",
    "        ax.set_xlabel(\"Time in Generations\")\n",
    "        ax.set_ylabel(\"Number of mutants ln(N)\")\n",
    "        ax.set_title(f\"Mutant allele frequency over time (s={self.s})\")\n",
    "        plt.show()\n",
    "        \n",
    "        return(self.generation_data, binom_prob_list, mut_n_list, fig) \n",
    "    \n",
    "\n",
    "def build_leaf_to_root_connections(tree_mask):\n",
    "    \"\"\"\n",
    "     Simulate the population using the Wright-Fisher model with selection.\n",
    "    \"\"\"\n",
    "    # List of each generation, where each generation is a dict from node_idx to set of leaves\n",
    "    node_to_leaves = []\n",
    "    # Initialize the list of generations\n",
    "    for generation_idx, generation in enumerate(tree_mask):\n",
    "        node_to_leaves.append({})\n",
    "        for node_idx, node in enumerate(generation):\n",
    "            if node == 1:\n",
    "                node_to_leaves[-1][node_idx] = set()\n",
    "    # Go backward from leaf to root, randomly assigning each leaf to a parent\n",
    "    for leaf_idx in node_to_leaves[-1].keys():\n",
    "        for generation_idx, generation in reversed(\n",
    "            list(enumerate(node_to_leaves[:-1]))\n",
    "        ):\n",
    "            parent_idx = random.choice(list(generation.keys()))\n",
    "            node_to_leaves[generation_idx][parent_idx].add(\n",
    "                (len(node_to_leaves) - 1, leaf_idx)\n",
    "            )\n",
    "    # Drop any non leaves that weren't connected\n",
    "    # Create a dict from node coordinates to leaf coordinates\n",
    "    result = {}\n",
    "    for generation_idx, generation in enumerate(node_to_leaves):\n",
    "        for node_idx, leaves in generation.items():\n",
    "            if generation_idx == len(node_to_leaves) - 1 or len(leaves) > 0:\n",
    "                result[str((generation_idx, node_idx))] = {str(leaf) for leaf in leaves}\n",
    "    return result\n",
    "\n",
    "########  if _name_ == \"_main_\":\n",
    "########     build_leaf_to_root_connections(tree_mask)\n",
    "\n",
    "\n",
    "def clusters_to_nodes(tree_clusters):\n",
    "    \"\"\"\n",
    "    the following function goes from a nested dictionary of clades, creates the root node, adds node to that root \n",
    "    and then establishes parent and children relationships    \"\"\"\n",
    "    \n",
    "    label_to_node = {cluster: Node(label=cluster) for cluster in tree_clusters}\n",
    "\n",
    "    # Connect each node with it's leaves \n",
    "    for parent_label, leaf_labels in tree_clusters.items():\n",
    "        parent_node = label_to_node[parent_label]\n",
    "        for leaf_label in leaf_labels:\n",
    "            leaf_node = label_to_node[leaf_label]\n",
    "            parent_node.add_child(leaf_node)\n",
    "\n",
    "    # Connect each node with all descendants\n",
    "    for node1 in label_to_node.values():\n",
    "        for node2 in label_to_node.values():\n",
    "            if node1 == node2:\n",
    "                continue\n",
    "\n",
    "            possible_parent = node1 if len(node1.child_nodes()) > len(node2.child_nodes()) else node2\n",
    "            possible_child = node2 if possible_parent is node1 else node1\n",
    "            \n",
    "            parent_leaf_labels = {node.label for node in possible_parent.child_nodes()}\n",
    "            child_leaf_labels = {node.label for node in possible_child.child_nodes()}\n",
    "            is_descendant = child_leaf_labels.issubset(parent_leaf_labels)\n",
    "\n",
    "            if is_descendant and possible_child not in possible_parent.child_nodes() and possible_child.child_nodes():\n",
    "                possible_parent.add_child(possible_child)\n",
    "\n",
    "########  Remove non-direct descendants\n",
    "    next_nodes = {label_to_node[\"1\"]}\n",
    "    while next_nodes:\n",
    "        node = next_nodes.pop()\n",
    "        for child in node.child_nodes():\n",
    "            next_nodes.add(child)\n",
    "            child.set_parent(node)\n",
    "            for grandchild in child.child_nodes():\n",
    "                if grandchild in node.child_nodes():\n",
    "                    node.remove_child(grandchild)\n",
    "\n",
    "    # Create the tree using TreeSwift\n",
    "    tree = Tree()\n",
    "    tree.root = label_to_node[\"1\"]\n",
    "\n",
    "    return tree\n",
    "\n",
    "\n",
    "def assign_edge_lengths(self, mu, tree):\n",
    "    \"\"\"\n",
    "    Iterate through the tree class and assign edge lengths based on a Poisson distribution with mean rate μ.\n",
    "    \"\"\"\n",
    "    for node in tree.nodes():\n",
    "        length = np.random.poisson(mu)\n",
    "        node.set_edge_length(length)\n",
    "    return tree\n",
    "\n",
    "def read_observed_data(observed_data_path):\n",
    "    \"\"\"\n",
    "    Read observed tree and calculate LTT statistics and return or read in LTT statistics straight\n",
    "    \"\"\"\n",
    "\n",
    "    # Define the path to the file containing the tree\n",
    "    tree_file = observed_data_path\n",
    "\n",
    "    # Load the tree from the TSV file\n",
    "    with open(tree_file) as f:\n",
    "        tree_str = f.read()\n",
    "    tree = treeswift.read_tree_newick(tree_str)\n",
    "    \n",
    "    # Calculate lineage through time plot statistics\n",
    "    ltt = tree.lineages_through_time()\n",
    "\n",
    "    # Save the results in a data structure\n",
    "    results = {\n",
    "        \"tree\": tree,\n",
    "        \"ltt\": ltt,\n",
    "    }\n",
    "    print(\"Tree:\", results[\"tree\"])\n",
    "    print(\"LTT statistics:\", results[\"ltt\"])\n",
    "    return tree,ltt\n",
    "\n",
    "\n",
    "##### ------------- Wright-Fisher Simulation ------------------------------ #\n",
    "\n",
    "def simulate_population_and_tree(N, generations, mut_samples, s, mu):\n",
    "    # initiate population\n",
    "    popul = Population(N, generations, mut_samples, s) \n",
    "    # go from population array to tree_clusters dictionary\n",
    "    genealogy= build_leaf_to_root_connections(popul)\n",
    "    # from matrix go to tree_clusters dictionary\n",
    "    tree_clusters=genealogy_to_cluster(Gen.genealogy) \n",
    "    # create phylo tree\n",
    "    gen_tree = clusters_to_nodes(tree_clusters)\n",
    "    # assign random edge (branch) lengths\n",
    "    gen_tree_expanded = assign_edge_lengths(gen_tree, mu)\n",
    "    # calculate ltt stats and plot using treeswift\n",
    "    ltt_gen_tree = gen_tree_expanded.lineages_through_time()\n",
    "    # write tree to newick txt file\n",
    "    gen_tree.write_tree_newick(\"output_gen_tree.tree.nwk\", hide_rooted_prefix=True)\n",
    "\n",
    "\n",
    "results = []\n",
    "\n",
    "for i in range(1000):\n",
    "    # call the function\n",
    "    result = simulate_population_and_tree(N, generations, mut_samples, s, mu)\n",
    "    # append the result to the list\n",
    "    results.append(result)\n",
    "\n",
    "\n",
    "    \n",
    "\n",
    "##### ------------- Approximate Bayesian Criterion ----------------- #\n",
    "    \"\"\"\n",
    "    Set Priors and run ABC analysis using abcpy\n",
    "    \"\"\"\n",
    "\n",
    "##### Distance function between observed and synthetic data\n",
    "def distance_function():\n",
    "    \"\"\"\n",
    "    Calculate the distance between the observed and synthetic data.\n",
    "    \"\"\"\n",
    "\n",
    "    pass\n",
    "\n",
    "\n",
    "\n",
    "def estimate_parameters(epsilon):\n",
    "    # set priors\n",
    "    s_prior = abcpy.Distribution(stats.uniform, 0, 2) # selection\n",
    "    \n",
    "    pass\n",
    "        \n",
    "\n",
    "    "
   ]
  },
  {
   "cell_type": "code",
   "execution_count": 129,
   "metadata": {},
   "outputs": [
    {
     "ename": "SyntaxError",
     "evalue": "invalid syntax (<ipython-input-129-d8603f9f9bc3>, line 1)",
     "output_type": "error",
     "traceback": [
      "\u001b[0;36m  File \u001b[0;32m\"<ipython-input-129-d8603f9f9bc3>\"\u001b[0;36m, line \u001b[0;32m1\u001b[0m\n\u001b[0;31m    which python\u001b[0m\n\u001b[0m          ^\u001b[0m\n\u001b[0;31mSyntaxError\u001b[0m\u001b[0;31m:\u001b[0m invalid syntax\n"
     ]
    }
   ],
   "source": [
    "which python"
   ]
  },
  {
   "cell_type": "code",
   "execution_count": 100,
   "metadata": {
    "scrolled": false
   },
   "outputs": [
    {
     "data": {
      "image/png": "[encoded data removed]",
      "text/plain": [
       "<Figure size 432x288 with 1 Axes>"
      ]
     },
     "metadata": {
      "needs_background": "light"
     },
     "output_type": "display_data"
    }
   ],
   "source": [
    "pop = Population(N=10000000, generations=30, s=1.3)\n",
    "gen, prob, mut, fig = pop.simulate_population()"
   ]
  },
  {
   "cell_type": "code",
   "execution_count": 310,
   "metadata": {},
   "outputs": [
    {
     "data": {
      "image/png": "[encoded data removed]",
      "text/plain": [
       "<Figure size 432x288 with 1 Axes>"
      ]
     },
     "metadata": {
      "needs_background": "light"
     },
     "output_type": "display_data"
    }
   ],
   "source": [
    "pop = Population(N=10000000, generations=30, s=0.5)\n",
    "gen, prob, mut, fig = pop.simulate_population()"
   ]
  },
  {
   "cell_type": "code",
   "execution_count": 128,
   "metadata": {
    "slideshow": {
     "slide_type": "-"
    }
   },
   "outputs": [
    {
     "name": "stderr",
     "output_type": "stream",
     "text": [
      "<ipython-input-104-e427b18135e6>:63: RuntimeWarning: divide by zero encountered in log\n",
      "  ax.plot(range(len(num_mutants)), np.log(num_mutants))\n"
     ]
    },
    {
     "data": {
      "image/png": "[encoded data removed]",
      "text/plain": [
       "<Figure size 432x288 with 1 Axes>"
      ]
     },
     "metadata": {
      "needs_background": "light"
     },
     "output_type": "display_data"
    }
   ],
   "source": [
    "pop = Population(N=2000, generations=30, s=1.6)\n",
    "gen, prob, mut, fig = pop.simulate_population()"
   ]
  },
  {
   "cell_type": "code",
   "execution_count": 336,
   "metadata": {
    "scrolled": true
   },
   "outputs": [
    {
     "data": {
      "image/png": "[encoded data removed]",
      "text/plain": [
       "<Figure size 432x288 with 1 Axes>"
      ]
     },
     "metadata": {
      "needs_background": "light"
     },
     "output_type": "display_data"
    }
   ],
   "source": [
    "# Example of stochastic extinction\n",
    "pop = Population(N=10000000, generations=30, s=0.3)\n",
    "gen, prob, mut, fig = pop.simulate_population()"
   ]
  },
  {
   "cell_type": "code",
   "execution_count": 338,
   "metadata": {},
   "outputs": [
    {
     "data": {
      "image/png": "[encoded data removed]",
      "text/plain": [
       "<Figure size 432x288 with 1 Axes>"
      ]
     },
     "metadata": {
      "needs_background": "light"
     },
     "output_type": "display_data"
    },
    {
     "name": "stdout",
     "output_type": "stream",
     "text": [
      "Tree: (ROOT:1,(COLO_278_06:6241,((COLO_278_55:7131,((COLO_278_31:6394,(COLO_278_01:4554,(COLO_278_51:4638,COLO_278_54:4097)100:2815):16)100:54,(COLO_278_09:2186,(COLO_278_07:901,COLO_278_22:2709)100:1434)100:1501)100:204)100:770,(((COLO_278_18:4791,(((COLO_278_02:3348,((COLO_278_21:4063,(COLO_278_44:3496,(COLO_278_45:2787,COLO_278_46:3154)100:323)100:281)100:496,((COLO_278_33:2911,(COLO_278_41:3735,COLO_278_73:3133)100:198)100:902,(COLO_278_50:3690,COLO_278_60:3361)100:1250)100:131)100:85)100:52,(COLO_278_28:5115,(((COLO_278_16:3020,COLO_278_59:3442)100:341,(COLO_278_65:3230,(COLO_278_25:3948,COLO_278_72:3048)100:275)100:346)100:216,(((COLO_278_24:3510,COLO_278_36:3747)100:424,(COLO_278_42:2206,COLO_278_47:2131)100:1972)100:228,(COLO_278_38:4358,COLO_278_39:3648)100:343)100:20)100:311)100:46)100:0,((COLO_278_11:2680,COLO_278_56:5715)100:186,(((COLO_278_15:2576,COLO_278_71:5211)100:94,(COLO_278_62:3372,COLO_278_66:3530)100:1526)100:106,(COLO_278_43:5155,(COLO_278_34:4149,(COLO_278_37:3141,(COLO_278_58:2379,COLO_278_67:2961)100:534)100:223)100:1079)100:150)100:49)100:23)100:19)100:150,(COLO_278_20:3412,COLO_278_23:4171)100:3067)100:183,(COLO_278_48:6118,((COLO_278_03:4428,(COLO_278_08:4383,(COLO_278_13:4638,(COLO_278_64:4820,(COLO_278_61:4843,(COLO_278_05:3476,COLO_278_10:4887)100:285)100:51)100:59)100:321)100:8)100:24,((COLO_278_69:7045,(COLO_278_29:5145,(COLO_278_26:6072,COLO_278_70:6460)100:87)100:828)100:66,(COLO_278_40:3612,COLO_278_74:4227)100:3008)100:758)100:2)100:10)100:173)100:386)100:60754)Root;\n",
      "LTT statistics: {0.0: 2, 1.0: 1, 60754.0: 2, 61140.0: 3, 61313.0: 4, 61323.0: 5, 61325.0: 6, 61349.0: 7, 61357.0: 8, 61496.0: 9, 61646.0: 10, 61665.0: 12, 61678.0: 13, 61688.0: 14, 61711.0: 15, 61717.0: 16, 61737.0: 18, 61788.0: 19, 61802.0: 20, 61843.0: 21, 61874.0: 22, 61887.0: 23, 61910.0: 24, 61933.0: 25, 61937.0: 26, 62022.0: 27, 62042.0: 28, 62073.0: 29, 62083.0: 30, 62114.0: 31, 62149.0: 32, 62168.0: 33, 62184.0: 34, 62238.0: 35, 62270.0: 36, 62298.0: 37, 62385.0: 38, 62579.0: 40, 62584.0: 41, 62694.0: 42, 62835.0: 43, 62859.0: 44, 62902.0: 45, 62966.0: 46, 62977.0: 47, 63033.0: 48, 63064.0: 49, 63183.0: 50, 63189.0: 51, 63369.0: 52, 63615.0: 53, 63723.0: 54, 64242.0: 55, 64513.0: 54, 64554.0: 53, 64563.0: 54, 64999.0: 55, 65049.0: 56, 65065.0: 55, 65091.0: 56, 65549.0: 55, 65599.0: 54, 65689.0: 53, 65740.0: 52, 65746.0: 51, 65777.0: 50, 65801.0: 49, 65814.0: 48, 65907.0: 47, 65950.0: 46, 66021.0: 45, 66033.0: 44, 66056.0: 43, 66075.0: 42, 66102.0: 41, 66166.0: 40, 66204.0: 39, 66316.0: 38, 66330.0: 37, 66361.0: 36, 66373.0: 35, 66437.0: 34, 66441.0: 33, 66448.0: 32, 66544.0: 31, 66557.0: 30, 66631.0: 29, 66684.0: 28, 66738.0: 27, 66741.0: 26, 66743.0: 25, 66768.0: 24, 66807.0: 23, 66826.0: 22, 66873.0: 21, 66899.0: 20, 66960.0: 19, 66995.0: 18, 67042.0: 17, 67115.0: 16, 67148.0: 15, 67441.0: 14, 67589.0: 13, 67758.0: 12, 67975.0: 11, 68122.0: 10, 68562.0: 9, 68703.0: 8, 68734.0: 7, 69041.0: 6, 69096.0: 5, 69136.0: 4, 69194.0: 3, 69318.0: 2, 69524.0: 1, 69637.0: 0}\n"
     ]
    }
   ],
   "source": [
    "# Read Organoid 278 tree\n",
    "observed_data_path = \"/Users/mkalyva/DATA/MSI_evolution_2022/Organoid_278/Work_2023/Plots/consense_mpboot_org278_newick.tree\"\n",
    "# add function to average branch length\n",
    "tree, ltt = read_observed_data(observed_data_path)"
   ]
  },
  {
   "cell_type": "code",
   "execution_count": 324,
   "metadata": {},
   "outputs": [
    {
     "data": {
      "image/png": "[encoded data removed]",
      "text/plain": [
       "<Figure size 432x288 with 1 Axes>"
      ]
     },
     "metadata": {
      "needs_background": "light"
     },
     "output_type": "display_data"
    },
    {
     "data": {
      "text/plain": [
       "{0.0: 2,\n",
       " 1.0: 1,\n",
       " 60754.0: 2,\n",
       " 61140.0: 3,\n",
       " 61313.0: 4,\n",
       " 61323.0: 5,\n",
       " 61325.0: 6,\n",
       " 61349.0: 7,\n",
       " 61357.0: 8,\n",
       " 61496.0: 9,\n",
       " 61646.0: 10,\n",
       " 61665.0: 12,\n",
       " 61678.0: 13,\n",
       " 61688.0: 14,\n",
       " 61711.0: 15,\n",
       " 61717.0: 16,\n",
       " 61737.0: 18,\n",
       " 61788.0: 19,\n",
       " 61802.0: 20,\n",
       " 61843.0: 21,\n",
       " 61874.0: 22,\n",
       " 61887.0: 23,\n",
       " 61910.0: 24,\n",
       " 61933.0: 25,\n",
       " 61937.0: 26,\n",
       " 62022.0: 27,\n",
       " 62042.0: 28,\n",
       " 62073.0: 29,\n",
       " 62083.0: 30,\n",
       " 62114.0: 31,\n",
       " 62149.0: 32,\n",
       " 62168.0: 33,\n",
       " 62184.0: 34,\n",
       " 62238.0: 35,\n",
       " 62270.0: 36,\n",
       " 62298.0: 37,\n",
       " 62385.0: 38,\n",
       " 62579.0: 40,\n",
       " 62584.0: 41,\n",
       " 62694.0: 42,\n",
       " 62835.0: 43,\n",
       " 62859.0: 44,\n",
       " 62902.0: 45,\n",
       " 62966.0: 46,\n",
       " 62977.0: 47,\n",
       " 63033.0: 48,\n",
       " 63064.0: 49,\n",
       " 63183.0: 50,\n",
       " 63189.0: 51,\n",
       " 63369.0: 52,\n",
       " 63615.0: 53,\n",
       " 63723.0: 54,\n",
       " 64242.0: 55,\n",
       " 64513.0: 54,\n",
       " 64554.0: 53,\n",
       " 64563.0: 54,\n",
       " 64999.0: 55,\n",
       " 65049.0: 56,\n",
       " 65065.0: 55,\n",
       " 65091.0: 56,\n",
       " 65549.0: 55,\n",
       " 65599.0: 54,\n",
       " 65689.0: 53,\n",
       " 65740.0: 52,\n",
       " 65746.0: 51,\n",
       " 65777.0: 50,\n",
       " 65801.0: 49,\n",
       " 65814.0: 48,\n",
       " 65907.0: 47,\n",
       " 65950.0: 46,\n",
       " 66021.0: 45,\n",
       " 66033.0: 44,\n",
       " 66056.0: 43,\n",
       " 66075.0: 42,\n",
       " 66102.0: 41,\n",
       " 66166.0: 40,\n",
       " 66204.0: 39,\n",
       " 66316.0: 38,\n",
       " 66330.0: 37,\n",
       " 66361.0: 36,\n",
       " 66373.0: 35,\n",
       " 66437.0: 34,\n",
       " 66441.0: 33,\n",
       " 66448.0: 32,\n",
       " 66544.0: 31,\n",
       " 66557.0: 30,\n",
       " 66631.0: 29,\n",
       " 66684.0: 28,\n",
       " 66738.0: 27,\n",
       " 66741.0: 26,\n",
       " 66743.0: 25,\n",
       " 66768.0: 24,\n",
       " 66807.0: 23,\n",
       " 66826.0: 22,\n",
       " 66873.0: 21,\n",
       " 66899.0: 20,\n",
       " 66960.0: 19,\n",
       " 66995.0: 18,\n",
       " 67042.0: 17,\n",
       " 67115.0: 16,\n",
       " 67148.0: 15,\n",
       " 67441.0: 14,\n",
       " 67589.0: 13,\n",
       " 67758.0: 12,\n",
       " 67975.0: 11,\n",
       " 68122.0: 10,\n",
       " 68562.0: 9,\n",
       " 68703.0: 8,\n",
       " 68734.0: 7,\n",
       " 69041.0: 6,\n",
       " 69096.0: 5,\n",
       " 69136.0: 4,\n",
       " 69194.0: 3,\n",
       " 69318.0: 2,\n",
       " 69524.0: 1,\n",
       " 69637.0: 0}"
      ]
     },
     "execution_count": 324,
     "metadata": {},
     "output_type": "execute_result"
    }
   ],
   "source": [
    "tree.lineages_through_time(xmin=60000,xmax=62000)"
   ]
  },
  {
   "cell_type": "code",
   "execution_count": 325,
   "metadata": {},
   "outputs": [
    {
     "data": {
      "image/png": "[encoded data removed]",
      "text/plain": [
       "<Figure size 432x288 with 1 Axes>"
      ]
     },
     "metadata": {
      "needs_background": "light"
     },
     "output_type": "display_data"
    },
    {
     "name": "stdout",
     "output_type": "stream",
     "text": [
      "Tree: (ROOT:1,(COLO_027_31:21527,((((COLO_027_36:14112,((((COLO_027_12:10828,(COLO_027_11:3685,(COLO_027_42:407,COLO_027_44:310)100:4545)100:7029):18,(COLO_027_15:6332,(COLO_027_23:748,COLO_027_21:771)100:8056)100:143)100:1093,(COLO_027_35:11849,(COLO_027_24:3544,(COLO_027_48:282,COLO_027_50:314)100:6005)100:4765)100:1310)100:388,(((((COLO_027_19:3564,COLO_027_52:4082)100:732,(COLO_027_53:325,COLO_027_55:233)100:4900)100:1785,(COLO_027_27:521,COLO_027_25:579)100:7878)100:2186,(COLO_027_17:10931,COLO_027_51:12338)100:589)100:3397,(COLO_027_5:6351,((COLO_027_33:1998,(COLO_027_28:1314,COLO_027_7:1227)100:1672)100:2411,(COLO_027_18:343,COLO_027_20:489)100:6732)100:534)100:2384)100:0)100:86)100:8,((COLO_027_22:11578,(COLO_027_16:16095,(COLO_027_10:8317,(COLO_027_32:469,COLO_027_34:808)100:7424)100:1460)100:68)100:131,(COLO_027_49:7838,(COLO_027_26:6896,(COLO_027_45:524,COLO_027_47:464)100:8409)100:976)100:2223)100:47)100:16,(COLO_027_3:9636,COLO_027_30:8801)100:2279)100:639,(COLO_027_29:9309,COLO_027_8:14402)100:7590)100:447)100:52156)Root;\n",
      "LTT statistics: {0.0: 2, 1.0: 1, 52156.0: 2, 52603.0: 3, 53242.0: 4, 53258.0: 5, 53266.0: 6, 53305.0: 7, 53352.0: 9, 53436.0: 10, 53504.0: 11, 53740.0: 12, 54833.0: 13, 54851.0: 14, 54964.0: 15, 54976.0: 16, 55050.0: 17, 55521.0: 18, 55528.0: 19, 55736.0: 20, 56270.0: 21, 56504.0: 22, 56749.0: 23, 57338.0: 24, 58681.0: 25, 58935.0: 26, 59815.0: 27, 60193.0: 28, 60353.0: 29, 60679.0: 28, 60720.0: 29, 61308.0: 28, 61452.0: 29, 61580.0: 28, 61667.0: 27, 61880.0: 28, 62087.0: 27, 62388.0: 28, 62857.0: 27, 63002.0: 28, 63032.0: 29, 63196.0: 28, 63281.0: 27, 63345.0: 26, 63359.0: 25, 63366.0: 24, 63400.0: 23, 63491.0: 22, 63780.0: 21, 63803.0: 20, 64322.0: 19, 64913.0: 20, 65014.0: 19, 65016.0: 18, 65157.0: 17, 65377.0: 16, 65437.0: 15, 65534.0: 14, 65565.0: 13, 65620.0: 14, 65679.0: 13, 65820.0: 14, 65853.0: 13, 65945.0: 12, 66102.0: 11, 66134.0: 10, 66425.0: 11, 66735.0: 10, 66813.0: 11, 66832.0: 10, 66899.0: 9, 67334.0: 8, 67378.0: 7, 67392.0: 6, 68269.0: 5, 69502.0: 4, 69599.0: 3, 69676.0: 2, 73683.0: 1, 74595.0: 0}\n"
     ]
    }
   ],
   "source": [
    "# Read Organoid 027 tree\n",
    "observed_data_path = \"/Users/mkalyva/DATA/MSI_evolution_2022/Organoid_027/Work_2023/Plots/consense_mpboot_org027_newick.tree\"\n",
    "tree, ltt = read_observed_data(observed_data_path)"
   ]
  },
  {
   "cell_type": "code",
   "execution_count": 327,
   "metadata": {},
   "outputs": [
    {
     "data": {
      "image/png": "[encoded data removed]",
      "text/plain": [
       "<Figure size 432x288 with 1 Axes>"
      ]
     },
     "metadata": {
      "needs_background": "light"
     },
     "output_type": "display_data"
    },
    {
     "data": {
      "text/plain": [
       "{0.0: 2,\n",
       " 1.0: 1,\n",
       " 52156.0: 2,\n",
       " 52603.0: 3,\n",
       " 53242.0: 4,\n",
       " 53258.0: 5,\n",
       " 53266.0: 6,\n",
       " 53305.0: 7,\n",
       " 53352.0: 9,\n",
       " 53436.0: 10,\n",
       " 53504.0: 11,\n",
       " 53740.0: 12,\n",
       " 54833.0: 13,\n",
       " 54851.0: 14,\n",
       " 54964.0: 15,\n",
       " 54976.0: 16,\n",
       " 55050.0: 17,\n",
       " 55521.0: 18,\n",
       " 55528.0: 19,\n",
       " 55736.0: 20,\n",
       " 56270.0: 21,\n",
       " 56504.0: 22,\n",
       " 56749.0: 23,\n",
       " 57338.0: 24,\n",
       " 58681.0: 25,\n",
       " 58935.0: 26,\n",
       " 59815.0: 27,\n",
       " 60193.0: 28,\n",
       " 60353.0: 29,\n",
       " 60679.0: 28,\n",
       " 60720.0: 29,\n",
       " 61308.0: 28,\n",
       " 61452.0: 29,\n",
       " 61580.0: 28,\n",
       " 61667.0: 27,\n",
       " 61880.0: 28,\n",
       " 62087.0: 27,\n",
       " 62388.0: 28,\n",
       " 62857.0: 27,\n",
       " 63002.0: 28,\n",
       " 63032.0: 29,\n",
       " 63196.0: 28,\n",
       " 63281.0: 27,\n",
       " 63345.0: 26,\n",
       " 63359.0: 25,\n",
       " 63366.0: 24,\n",
       " 63400.0: 23,\n",
       " 63491.0: 22,\n",
       " 63780.0: 21,\n",
       " 63803.0: 20,\n",
       " 64322.0: 19,\n",
       " 64913.0: 20,\n",
       " 65014.0: 19,\n",
       " 65016.0: 18,\n",
       " 65157.0: 17,\n",
       " 65377.0: 16,\n",
       " 65437.0: 15,\n",
       " 65534.0: 14,\n",
       " 65565.0: 13,\n",
       " 65620.0: 14,\n",
       " 65679.0: 13,\n",
       " 65820.0: 14,\n",
       " 65853.0: 13,\n",
       " 65945.0: 12,\n",
       " 66102.0: 11,\n",
       " 66134.0: 10,\n",
       " 66425.0: 11,\n",
       " 66735.0: 10,\n",
       " 66813.0: 11,\n",
       " 66832.0: 10,\n",
       " 66899.0: 9,\n",
       " 67334.0: 8,\n",
       " 67378.0: 7,\n",
       " 67392.0: 6,\n",
       " 68269.0: 5,\n",
       " 69502.0: 4,\n",
       " 69599.0: 3,\n",
       " 69676.0: 2,\n",
       " 73683.0: 1,\n",
       " 74595.0: 0}"
      ]
     },
     "execution_count": 327,
     "metadata": {},
     "output_type": "execute_result"
    }
   ],
   "source": [
    "tree.lineages_through_time(xmin=52000,xmax=62000)"
   ]
  },
  {
   "cell_type": "code",
   "execution_count": 331,
   "metadata": {},
   "outputs": [
    {
     "data": {
      "image/png": "[encoded data removed]",
      "text/plain": [
       "<Figure size 432x288 with 1 Axes>"
      ]
     },
     "metadata": {
      "needs_background": "light"
     },
     "output_type": "display_data"
    },
    {
     "data": {
      "text/plain": [
       "{0.0: 2,\n",
       " 1.0: 1,\n",
       " 52156.0: 2,\n",
       " 52603.0: 3,\n",
       " 53242.0: 4,\n",
       " 53258.0: 5,\n",
       " 53266.0: 6,\n",
       " 53305.0: 7,\n",
       " 53352.0: 9,\n",
       " 53436.0: 10,\n",
       " 53504.0: 11,\n",
       " 53740.0: 12,\n",
       " 54833.0: 13,\n",
       " 54851.0: 14,\n",
       " 54964.0: 15,\n",
       " 54976.0: 16,\n",
       " 55050.0: 17,\n",
       " 55521.0: 18,\n",
       " 55528.0: 19,\n",
       " 55736.0: 20,\n",
       " 56270.0: 21,\n",
       " 56504.0: 22,\n",
       " 56749.0: 23,\n",
       " 57338.0: 24,\n",
       " 58681.0: 25,\n",
       " 58935.0: 26,\n",
       " 59815.0: 27,\n",
       " 60193.0: 28,\n",
       " 60353.0: 29,\n",
       " 60679.0: 28,\n",
       " 60720.0: 29,\n",
       " 61308.0: 28,\n",
       " 61452.0: 29,\n",
       " 61580.0: 28,\n",
       " 61667.0: 27,\n",
       " 61880.0: 28,\n",
       " 62087.0: 27,\n",
       " 62388.0: 28,\n",
       " 62857.0: 27,\n",
       " 63002.0: 28,\n",
       " 63032.0: 29,\n",
       " 63196.0: 28,\n",
       " 63281.0: 27,\n",
       " 63345.0: 26,\n",
       " 63359.0: 25,\n",
       " 63366.0: 24,\n",
       " 63400.0: 23,\n",
       " 63491.0: 22,\n",
       " 63780.0: 21,\n",
       " 63803.0: 20,\n",
       " 64322.0: 19,\n",
       " 64913.0: 20,\n",
       " 65014.0: 19,\n",
       " 65016.0: 18,\n",
       " 65157.0: 17,\n",
       " 65377.0: 16,\n",
       " 65437.0: 15,\n",
       " 65534.0: 14,\n",
       " 65565.0: 13,\n",
       " 65620.0: 14,\n",
       " 65679.0: 13,\n",
       " 65820.0: 14,\n",
       " 65853.0: 13,\n",
       " 65945.0: 12,\n",
       " 66102.0: 11,\n",
       " 66134.0: 10,\n",
       " 66425.0: 11,\n",
       " 66735.0: 10,\n",
       " 66813.0: 11,\n",
       " 66832.0: 10,\n",
       " 66899.0: 9,\n",
       " 67334.0: 8,\n",
       " 67378.0: 7,\n",
       " 67392.0: 6,\n",
       " 68269.0: 5,\n",
       " 69502.0: 4,\n",
       " 69599.0: 3,\n",
       " 69676.0: 2,\n",
       " 73683.0: 1,\n",
       " 74595.0: 0}"
      ]
     },
     "execution_count": 331,
     "metadata": {},
     "output_type": "execute_result"
    }
   ],
   "source": [
    "tree.lineages_through_time(xmin=50000,xmax=54000, ymax=10)"
   ]
  },
  {
   "cell_type": "code",
   "execution_count": 2,
   "metadata": {},
   "outputs": [],
   "source": [
    "def build_leaf_to_root_connections(tree_mask):\n",
    "    \"\"\"\n",
    "     Simulate the population using the Wright-Fisher model with selection.\n",
    "    \"\"\"\n",
    "    # List of each generation, where each generation is a dict from node_idx to set of leaves\n",
    "    node_to_leaves = []\n",
    "    # Initialize the list of generations\n",
    "    for generation_idx, generation in enumerate(tree_mask):\n",
    "        node_to_leaves.append({})\n",
    "        for node_idx, node in enumerate(generation):\n",
    "            if node == 1:\n",
    "                node_to_leaves[-1][node_idx] = set()\n",
    "    # Go backward from leaf to root, randomly assigning each leaf to a parent\n",
    "    for leaf_idx in node_to_leaves[-1].keys():\n",
    "        for generation_idx, generation in reversed(\n",
    "            list(enumerate(node_to_leaves[:-1]))\n",
    "        ):\n",
    "            parent_idx = random.choice(list(generation.keys()))\n",
    "            node_to_leaves[generation_idx][parent_idx].add(\n",
    "                (len(node_to_leaves) - 1, leaf_idx)\n",
    "            )\n",
    "    # Drop any non leaves that weren't connected\n",
    "    # Create a dict from node coordinates to leaf coordinates\n",
    "    result = {}\n",
    "    for generation_idx, generation in enumerate(node_to_leaves):\n",
    "        for node_idx, leaves in generation.items():\n",
    "            if generation_idx == len(node_to_leaves) - 1 or len(leaves) > 0:\n",
    "                result[str((generation_idx, node_idx))] = {str(leaf) for leaf in leaves}\n",
    "    return result"
   ]
  },
  {
   "cell_type": "code",
   "execution_count": 5,
   "metadata": {},
   "outputs": [],
   "source": [
    "def build_leaf_to_root_connections(tree_mask):\n",
    "    \"\"\"\n",
    "     Simulate the population using the Wright-Fisher model with selection.\n",
    "    \"\"\"\n",
    "    # List of each generation, where each generation is a dict from node_idx to set of leaves\n",
    "    node_to_leaves = []\n",
    "\n",
    "    # Initialize the list of generations\n",
    "    for generation_idx, generation in enumerate(tree_mask):\n",
    "        node_to_leaves.append({})\n",
    "        for node_idx, node in enumerate(generation):\n",
    "            if node == 1:\n",
    "                node_to_leaves[-1][node_idx] = set()\n",
    "\n",
    "    # Go backward from leaf to root, randomly assigning each leaf to a parent\n",
    "    for leaf_idx in node_to_leaves[-1].keys():\n",
    "        leaf_to_follow = None\n",
    "        for generation_idx, generation in reversed(\n",
    "            list(enumerate(node_to_leaves[:-1]))\n",
    "        ):\n",
    "            # If we already have a leaf to follow, pick it's ancestor, otherwise pick a random one\n",
    "            if leaf_to_follow is not None:\n",
    "                parent_idx = next(\n",
    "                    node\n",
    "                    for node, leaves in generation.items()\n",
    "                    if leaf_to_follow in leaves\n",
    "                )\n",
    "            else:\n",
    "                parent_idx = random.choice(list(generation.keys()))\n",
    "\n",
    "            # If the parent already has a leaf, pick it's ancestor in all previous generations to avoid cycles\n",
    "            if len(node_to_leaves[generation_idx][parent_idx]) > 0:\n",
    "                leaf_to_follow = list(node_to_leaves[generation_idx][parent_idx])[0]\n",
    "\n",
    "            # Add the leaf to the parent\n",
    "            node_to_leaves[generation_idx][parent_idx].add(\n",
    "                (len(node_to_leaves) - 1, leaf_idx)\n",
    "            )\n",
    "\n",
    "    # Drop any non leaves that weren't connected\n",
    "    # Create a dict from node coordinates to leaf coordinates\n",
    "    result = {}\n",
    "    for generation_idx, generation in enumerate(node_to_leaves):\n",
    "        for node_idx, leaves in generation.items():\n",
    "            if generation_idx == len(node_to_leaves) - 1 or len(leaves) > 0:\n",
    "                result[str((generation_idx, node_idx))] = {str(leaf) for leaf in leaves}\n",
    "\n",
    "    return result"
   ]
  },
  {
   "cell_type": "code",
   "execution_count": 60,
   "metadata": {},
   "outputs": [],
   "source": [
    "def clusters_to_nodes(tree_clusters):\n",
    "    \"\"\"\n",
    "    the following function goes from a nested dictionary of clades, creates the root node, adds node to that root \n",
    "    and then establishes parent and children relationships    \"\"\"\n",
    "    \n",
    "    label_to_node = {cluster: Node(label=cluster) for cluster in tree_clusters}\n",
    "    root_name = list(tree_clusters.keys())[0]\n",
    "    \n",
    "    # Connect each node with it's leaves \n",
    "    for parent_label, leaf_labels in tree_clusters.items():\n",
    "        parent_node = label_to_node[parent_label]\n",
    "        for leaf_label in leaf_labels:\n",
    "            leaf_node = label_to_node[leaf_label]\n",
    "            parent_node.add_child(leaf_node)\n",
    "\n",
    "    # Connect each node with all descendants\n",
    "    for node1 in label_to_node.values():\n",
    "        for node2 in label_to_node.values():\n",
    "            if node1 == node2:\n",
    "                continue\n",
    "\n",
    "            node_1_gen = int(node1.label.split(',')[0][1:]) # split the key on comma, take the first element, and remove the opening parenthesis\n",
    "            node_2_gen = int(node2.label.split(',')[0][1:]) # split the key on comma, take the first element, and remove the opening parenthesis\n",
    "            \n",
    "            if abs(node_2_gen - node_1_gen) > 1 :\n",
    "                continue\n",
    "            \n",
    "            possible_parent = node1 if len(node1.child_nodes()) > len(node2.child_nodes()) else node2\n",
    "            possible_child = node2 if possible_parent is node1 else node1\n",
    "            \n",
    "            parent_leaf_labels = {node.label for node in possible_parent.child_nodes()}\n",
    "            child_leaf_labels = {node.label for node in possible_child.child_nodes()}\n",
    "            is_descendant = child_leaf_labels.issubset(parent_leaf_labels)\n",
    "\n",
    "            if is_descendant and possible_child not in possible_parent.child_nodes() and possible_child.child_nodes():\n",
    "                possible_parent.add_child(possible_child)\n",
    "\n",
    "########  Remove non-direct descendants\n",
    "    next_nodes = {label_to_node[root_name]}\n",
    "    while next_nodes:\n",
    "        node = next_nodes.pop()\n",
    "        for child in node.child_nodes():\n",
    "            next_nodes.add(child)\n",
    "            child.set_parent(node)\n",
    "            for grandchild in child.child_nodes():\n",
    "                if grandchild in node.child_nodes():\n",
    "                    node.remove_child(grandchild)\n",
    "\n",
    "    # Create the tree using TreeSwift\n",
    "    tree = Tree()\n",
    "    tree.root = label_to_node[root_name]\n",
    "\n",
    "    return tree"
   ]
  },
  {
   "cell_type": "code",
   "execution_count": 67,
   "metadata": {},
   "outputs": [
    {
     "data": {
      "image/png": "[encoded data removed]",
      "text/plain": [
       "<Figure size 432x288 with 1 Axes>"
      ]
     },
     "metadata": {
      "needs_background": "light"
     },
     "output_type": "display_data"
    }
   ],
   "source": [
    "pop = Population(N=6, generations=4, s=1.3)\n",
    "gen, prob, mut, fig = pop.simulate_population()"
   ]
  },
  {
   "cell_type": "code",
   "execution_count": 68,
   "metadata": {},
   "outputs": [],
   "source": [
    "clusters = build_leaf_to_root_connections(gen)"
   ]
  },
  {
   "cell_type": "code",
   "execution_count": 69,
   "metadata": {},
   "outputs": [
    {
     "data": {
      "text/plain": [
       "{'(0, 2)': {'(4, 0)', '(4, 1)', '(4, 2)', '(4, 3)', '(4, 4)', '(4, 5)'},\n",
       " '(1, 2)': {'(4, 1)', '(4, 4)'},\n",
       " '(1, 3)': {'(4, 0)', '(4, 2)', '(4, 3)', '(4, 5)'},\n",
       " '(2, 0)': {'(4, 2)'},\n",
       " '(2, 2)': {'(4, 1)', '(4, 4)'},\n",
       " '(2, 5)': {'(4, 0)', '(4, 3)', '(4, 5)'},\n",
       " '(3, 0)': {'(4, 3)', '(4, 5)'},\n",
       " '(3, 1)': {'(4, 0)'},\n",
       " '(3, 2)': {'(4, 2)'},\n",
       " '(3, 5)': {'(4, 1)', '(4, 4)'},\n",
       " '(4, 0)': set(),\n",
       " '(4, 1)': set(),\n",
       " '(4, 2)': set(),\n",
       " '(4, 3)': set(),\n",
       " '(4, 4)': set(),\n",
       " '(4, 5)': set()}"
      ]
     },
     "execution_count": 69,
     "metadata": {},
     "output_type": "execute_result"
    }
   ],
   "source": [
    "clusters"
   ]
  },
  {
   "cell_type": "code",
   "execution_count": 70,
   "metadata": {},
   "outputs": [],
   "source": [
    "tree_run = clusters_to_nodes(clusters)"
   ]
  },
  {
   "cell_type": "code",
   "execution_count": 94,
   "metadata": {},
   "outputs": [],
   "source": [
    "def assign_edge_lengths(mu, tree):\n",
    "    \"\"\"\n",
    "    Iterate through the tree class and assign edge lengths based on a Poisson distribution with mean rate μ.\n",
    "    \"\"\"\n",
    "    for node in tree.traverse_preorder():\n",
    "        length = np.random.poisson(mu)\n",
    "        node.set_edge_length(length)\n",
    "    return tree"
   ]
  },
  {
   "cell_type": "code",
   "execution_count": 72,
   "metadata": {},
   "outputs": [],
   "source": [
    "tree_run.write_tree_newick('output.tre') "
   ]
  },
  {
   "cell_type": "code",
   "execution_count": 65,
   "metadata": {},
   "outputs": [
    {
     "data": {
      "text/plain": [
       "{'(0, 1)': {'(4, 0)', '(4, 1)', '(4, 2)', '(4, 3)', '(4, 4)'},\n",
       " '(1, 4)': {'(4, 0)', '(4, 1)', '(4, 2)', '(4, 3)', '(4, 4)'},\n",
       " '(2, 4)': {'(4, 0)', '(4, 1)', '(4, 2)', '(4, 3)', '(4, 4)'},\n",
       " '(3, 0)': {'(4, 1)', '(4, 3)'},\n",
       " '(3, 2)': {'(4, 4)'},\n",
       " '(3, 3)': {'(4, 2)'},\n",
       " '(3, 4)': {'(4, 0)'},\n",
       " '(4, 0)': set(),\n",
       " '(4, 1)': set(),\n",
       " '(4, 2)': set(),\n",
       " '(4, 3)': set(),\n",
       " '(4, 4)': set()}"
      ]
     },
     "execution_count": 65,
     "metadata": {},
     "output_type": "execute_result"
    }
   ],
   "source": [
    "clusters"
   ]
  },
  {
   "cell_type": "code",
   "execution_count": 80,
   "metadata": {},
   "outputs": [
    {
     "data": {
      "text/plain": [
       "\"[&R] (('(4, 1)','(4, 4)')'(1, 2)',(('(4, 2)')'(2, 0)',(('(4, 5)','(4, 3)')'(3, 0)',('(4, 0)')'(3, 1)')'(2, 5)')'(1, 3)')'(0, 2)';\""
      ]
     },
     "execution_count": 80,
     "metadata": {},
     "output_type": "execute_result"
    }
   ],
   "source": [
    "tree_string = tree_run.newick()\n",
    "tree_string\n",
    "# this is True"
   ]
  },
  {
   "cell_type": "code",
   "execution_count": null,
   "metadata": {},
   "outputs": [],
   "source": []
  },
  {
   "cell_type": "code",
   "execution_count": 95,
   "metadata": {},
   "outputs": [],
   "source": [
    "from treeswift import read_tree_newick\n",
    "tree = read_tree_newick(tree_string)\n",
    "tree_lengths = assign_edge_lengths(100,tree)"
   ]
  },
  {
   "cell_type": "code",
   "execution_count": 97,
   "metadata": {},
   "outputs": [
    {
     "data": {
      "image/png": "[encoded data removed]",
      "text/plain": [
       "<Figure size 720x97.2 with 1 Axes>"
      ]
     },
     "metadata": {
      "needs_background": "light"
     },
     "output_type": "display_data"
    }
   ],
   "source": [
    "tree_lengths.draw()"
   ]
  },
  {
   "cell_type": "code",
   "execution_count": null,
   "metadata": {},
   "outputs": [],
   "source": []
  }
 ],
 "metadata": {
  "celltoolbar": "Slideshow",
  "kernelspec": {
   "display_name": "Python 3",
   "language": "python",
   "name": "python3"
  },
  "language_info": {
   "codemirror_mode": {
    "name": "ipython",
    "version": 3
   },
   "file_extension": ".py",
   "mimetype": "text/x-python",
   "name": "python",
   "nbconvert_exporter": "python",
   "pygments_lexer": "ipython3",
   "version": "3.8.5"
  }
 },
 "nbformat": 4,
 "nbformat_minor": 4
}
